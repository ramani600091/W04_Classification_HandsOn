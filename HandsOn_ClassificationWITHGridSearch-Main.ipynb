{
 "cells": [
  {
   "cell_type": "code",
   "execution_count": 1,
   "id": "f5ac976e-f97c-4769-ae3d-eedbe555051e",
   "metadata": {},
   "outputs": [],
   "source": [
    "# %pip install import_ipynb\n",
    "import pandas as pd\n",
    "import numpy as np\n",
    "import import_ipynb\n",
    "import HandsOn_ClassificationWITHGridSearch_Functions as cwgs\n",
    "from tabulate import tabulate\n",
    "import warnings\n",
    "warnings.filterwarnings(\"ignore\")"
   ]
  },
  {
   "cell_type": "code",
   "execution_count": 2,
   "id": "7de9d213-330f-4902-a370-0c7c4df7dce0",
   "metadata": {},
   "outputs": [],
   "source": [
    "##Variable Declarations\n",
    "filenm = \"Social_Network_Ads.csv\"\n",
    "arr    =[]\n",
    "arr1   =[]\n",
    "\n",
    "# Pretty print using tabulate\n",
    "start_bold = \"\\033[1m\"\n",
    "end_bold   = \"\\033[0m\"\n",
    "RED_BOLD   = \"\\033[1;31m\"\n",
    "GREEN_BOLD = \"\\033[1;32m\"\n",
    "BLUE_BOLD  = \"\\033[1;34m\"\n",
    "RESET      = \"\\033[0m\""
   ]
  },
  {
   "cell_type": "code",
   "execution_count": 3,
   "id": "11d3a1ea-7858-448d-922b-5815f4ee663d",
   "metadata": {},
   "outputs": [],
   "source": [
    "# Get Records for every process\n",
    "ind,dep,shape =cwgs.getRows(filenm)"
   ]
  },
  {
   "cell_type": "code",
   "execution_count": null,
   "id": "7aa95a5b-1e49-4c83-87fd-289106c92882",
   "metadata": {},
   "outputs": [],
   "source": []
  },
  {
   "cell_type": "code",
   "execution_count": 4,
   "id": "801c344b",
   "metadata": {},
   "outputs": [],
   "source": [
    "##Model Execution\n",
    "\n",
    "##SVM\n",
    "grid,cm,clf_report,f1_macro,best_param=cwgs.getSVMLinearClassificaiton(ind,dep)\n",
    "arr.append([1,'SVM',grid,best_param,str(f1_macro)])\n",
    "\n",
    "##DecisionTree\n",
    "grid1,cm1,clf_report1,f1_macro1,best_param1=cwgs.getDecisionTreeClassification(ind,dep)\n",
    "arr.append([2,'Decision Tree',grid1,best_param1,str(f1_macro1)])\n",
    "\n",
    "##RandomForest\n",
    "grid2,cm2,clf_report2,f1_macro2,best_param2=cwgs.getRandomForestClassification(ind,dep)\n",
    "arr.append([3,'Random Forest',grid2,best_param2,str(f1_macro2)])\n",
    "\n",
    "##Logistic\n",
    "grid3,cm3,clf_report3,f1_macro3,best_param3=cwgs.getLogisticClassification(ind,dep)\n",
    "arr.append([4,'Logistic',grid3,best_param3,str(f1_macro3)])\n",
    "\n",
    "##K-Nearest_Neighbor\n",
    "grid4,cm4,clf_report4,f1_macro4,best_param4=cwgs.getKNearestNeighbor(ind,dep)\n",
    "arr.append([5,'KNearest Neighbor',grid4,best_param4,str(f1_macro4)])"
   ]
  },
  {
   "cell_type": "code",
   "execution_count": 5,
   "id": "83152ce8-6be1-4c85-8b77-465b7a2846fd",
   "metadata": {},
   "outputs": [],
   "source": [
    "## Sort the record descending\n",
    "arr.sort(key=lambda x: float(x[4]), reverse=True)\n",
    "\n",
    "# print(best_param,f1_macro,\"\\n\\n\\n\",clf_report)\n",
    "arr1 = arr[0]\n",
    "fgrid= arr1[2]\n",
    "\n",
    "\n",
    "age_input      = 19\n",
    "salary_input   = 25000\n",
    "sex_male_input = 0\n",
    "\n",
    "##Call to the Action\n",
    "Future_Prediction=fgrid.predict([[age_input,\n",
    "                                 salary_input,\n",
    "                                 sex_male_input\n",
    "                                 ]]) # change the paramter,play with it.\n",
    "\n"
   ]
  },
  {
   "cell_type": "code",
   "execution_count": null,
   "id": "9d9c3313-b258-4be6-94c4-f59fdee6af3c",
   "metadata": {},
   "outputs": [],
   "source": []
  },
  {
   "cell_type": "code",
   "execution_count": 8,
   "id": "5b6e5874-d39a-4986-a603-e3479caf1858",
   "metadata": {},
   "outputs": [
    {
     "name": "stdout",
     "output_type": "stream",
     "text": [
      "\u001b[1;34mSorted Descending on column 'F1_macro'\u001b[0m\n",
      "\u001b[1;31m+-------+-------------------+----------------------------------------------------------------------+--------------------+\n",
      "| Index |      Method       |                              Best Param                              |      F1_macro      |\n",
      "+-------+-------------------+----------------------------------------------------------------------+--------------------+\n",
      "|   3   |   Random Forest   |  {'criterion': 'gini', 'max_features': 'log2', 'n_estimators': 100}  | 0.9183922682195829 |\n",
      "|   5   | KNearest Neighbor |             {'algorithm': 'auto', 'weights': 'uniform'}              | 0.9183922682195829 |\n",
      "|   2   |   Decision Tree   | {'criterion': 'entropy', 'max_features': 'sqrt', 'splitter': 'best'} | 0.9108102345415777 |\n",
      "|   1   |        SVM        |             {'C': 100, 'gamma': 'auto', 'kernel': 'rbf'}             | 0.9100355779243318 |\n",
      "|   4   |     Logistic      |               {'penalty': 'l2', 'solver': 'liblinear'}               | 0.8794289739855382 |\n",
      "+-------+-------------------+----------------------------------------------------------------------+--------------------+\u001b[0m\n",
      "\u001b[1;34mTitle                 : \u001b[0m\u001b[1;31mM/c Learning(Classification)-GridSearchCV\n",
      "\u001b[1;34mBest Model            : \u001b[0m\u001b[1;31mRandom Forest\n",
      "\u001b[1;34mDataset               : \u001b[0m\u001b[1;31mSocial_Network_Ads.csv\n",
      "\u001b[1;34mModel Parameters      : \u001b[0m\u001b[1;31m{'criterion': 'gini', 'max_features': 'log2', 'n_estimators': 100}\n",
      "\u001b[1;34mAccuracy              : \u001b[0m\u001b[1;31m0.9183922682195829\n",
      "\u001b[1;34mFuture_Prediction is  : \u001b[0m\u001b[1;31m1\n"
     ]
    }
   ],
   "source": [
    "\n",
    "\n",
    "df = pd.DataFrame(arr, columns=['Index', 'Method', 'Grid','Best Param','F1_macro'])     \n",
    "selected_columns = df[['Index', 'Method','Best Param','F1_macro']]\n",
    "\n",
    "print(BLUE_BOLD + \"Sorted Descending on column 'F1_macro'\" + end_bold)\n",
    "print(RED_BOLD  + tabulate(selected_columns, headers='keys', tablefmt='pretty', showindex=False)+end_bold)\n",
    "print(BLUE_BOLD + \"Title                 : \"+ end_bold+RED_BOLD+\"M/c Learning(Classification)-GridSearchCV\")\n",
    "print(BLUE_BOLD + \"Best Model            : \"+ end_bold+RED_BOLD+arr1[1])\n",
    "print(BLUE_BOLD + \"Dataset               : \"+ end_bold+RED_BOLD+filenm)\n",
    "print(BLUE_BOLD + \"Model Parameters      : \"+ end_bold+RED_BOLD+arr1[3])\n",
    "print(BLUE_BOLD + \"Accuracy              : \"+ end_bold+RED_BOLD+arr1[4])\n",
    "print(BLUE_BOLD + \"Future_Prediction is  : \"+ end_bold+RED_BOLD+str(Future_Prediction[0]))\n"
   ]
  },
  {
   "cell_type": "code",
   "execution_count": null,
   "id": "ed3c8e61-f0b3-4a66-b4cf-a06f0eb6034d",
   "metadata": {},
   "outputs": [],
   "source": []
  },
  {
   "cell_type": "code",
   "execution_count": null,
   "id": "bab6edef-08ff-489d-8473-bb7da3504ab1",
   "metadata": {},
   "outputs": [],
   "source": []
  },
  {
   "cell_type": "code",
   "execution_count": null,
   "id": "72dc7445-46d9-4dd7-820d-9b9022ec38ca",
   "metadata": {},
   "outputs": [],
   "source": []
  }
 ],
 "metadata": {
  "kernelspec": {
   "display_name": "Python 3 (ipykernel)",
   "language": "python",
   "name": "python3"
  },
  "language_info": {
   "codemirror_mode": {
    "name": "ipython",
    "version": 3
   },
   "file_extension": ".py",
   "mimetype": "text/x-python",
   "name": "python",
   "nbconvert_exporter": "python",
   "pygments_lexer": "ipython3",
   "version": "3.13.5"
  }
 },
 "nbformat": 4,
 "nbformat_minor": 5
}
